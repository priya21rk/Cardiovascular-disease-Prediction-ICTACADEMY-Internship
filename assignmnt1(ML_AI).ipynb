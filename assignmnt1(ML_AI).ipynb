{
  "nbformat": 4,
  "nbformat_minor": 0,
  "metadata": {
    "colab": {
      "provenance": [],
      "authorship_tag": "ABX9TyMDegVs7U7sctLSOsDDt4u0",
      "include_colab_link": true
    },
    "kernelspec": {
      "name": "python3",
      "display_name": "Python 3"
    },
    "language_info": {
      "name": "python"
    }
  },
  "cells": [
    {
      "cell_type": "markdown",
      "metadata": {
        "id": "view-in-github",
        "colab_type": "text"
      },
      "source": [
        "<a href=\"https://colab.research.google.com/github/priya21rk/ICT_ML-AI/blob/DAY1/assignmnt1(ML_AI).ipynb\" target=\"_parent\"><img src=\"https://colab.research.google.com/assets/colab-badge.svg\" alt=\"Open In Colab\"/></a>"
      ]
    },
    {
      "cell_type": "code",
      "execution_count": null,
      "metadata": {
        "colab": {
          "base_uri": "https://localhost:8080/"
        },
        "id": "_M35GXSz4wfL",
        "outputId": "6b6c94eb-072c-4655-8e7d-1ad25df6074b"
      },
      "outputs": [
        {
          "output_type": "stream",
          "name": "stdout",
          "text": [
            "the sum is: 69\n"
          ]
        }
      ],
      "source": [
        "#@title sum of all elements in alist of integers\n",
        "\n",
        "list = [1,5,3,14,25,21]\n",
        "s=0\n",
        "for i in list :\n",
        "  s = s+i\n",
        "print(\"the sum is:\",s)"
      ]
    },
    {
      "cell_type": "code",
      "source": [
        "string = input(\"enter the string:\")\n",
        "print(len(string))\n",
        "print(len(string)//2)"
      ],
      "metadata": {
        "colab": {
          "base_uri": "https://localhost:8080/"
        },
        "id": "rdT4JGBm41tt",
        "outputId": "957e9092-c664-4119-b10b-98e438374756"
      },
      "execution_count": null,
      "outputs": [
        {
          "output_type": "stream",
          "name": "stdout",
          "text": [
            "enter the string:priya\n",
            "5\n",
            "2\n"
          ]
        }
      ]
    },
    {
      "cell_type": "code",
      "source": [
        "s1= input(\"enter the first string:\")\n",
        "s2= input(\"enter the second string:\")\n",
        "newstring = s1+\" \"+s2\n",
        "print(\"sum of the two strings are:\",newstring)\n",
        "print(len(newstring))"
      ],
      "metadata": {
        "colab": {
          "base_uri": "https://localhost:8080/"
        },
        "id": "iNwrIBs541ei",
        "outputId": "407d5419-33f7-4a64-c9ff-e2e748da00de"
      },
      "execution_count": null,
      "outputs": [
        {
          "output_type": "stream",
          "name": "stdout",
          "text": [
            "enter the first string:priya\n",
            "enter the second string:fathima\n",
            "sum of the two strings are: priya fathima\n",
            "13\n"
          ]
        }
      ]
    },
    {
      "cell_type": "code",
      "source": [
        "tup1=('78','45','32','19','82','77','40','39')\n",
        "list1 = list(tup1)\n",
        "list1[2]=100\n",
        "list1=tuple(list1)\n",
        "print(list1)"
      ],
      "metadata": {
        "colab": {
          "base_uri": "https://localhost:8080/"
        },
        "id": "euO6cctk5nMI",
        "outputId": "4f11ab16-1c43-4f22-cbb8-5fc2a5d6eeb3"
      },
      "execution_count": null,
      "outputs": [
        {
          "output_type": "stream",
          "name": "stdout",
          "text": [
            "('78', '45', 100, '19', '82', '77', '40', '39')\n"
          ]
        }
      ]
    },
    {
      "cell_type": "code",
      "source": [
        "list = [19, 32, 10, 55, 31, 32, 94, 29, 10, 65, 77, 40, 40]\n",
        "list.remove(32)\n",
        "print(\"after removing first occarance of 32\",list)\n",
        "\n",
        "while 40 in list:\n",
        "  list.remove(40)\n",
        "  print(\"after removing 40 from the list\",list)\n",
        "\n",
        "del list[5]\n",
        "print(\"after deleting a value from index 5\",list)\n",
        "\n",
        "list[8]=300\n",
        "print(\"after modifying value at index 9\",list)\n",
        "\n",
        "list[2]+=200\n",
        "print(\"after adding 200 at index 2\",list)\n",
        "\n",
        "print(\"the final list is:\",list)\n",
        "print(\"length of final list:\",len(list))\n",
        "print(\"maximum value:\",max(list))\n",
        "print(\"the sum of final list is:\",sum(list))"
      ],
      "metadata": {
        "colab": {
          "base_uri": "https://localhost:8080/"
        },
        "id": "pxEWEsVS5GGT",
        "outputId": "24ebe070-53bc-4604-e1d9-74075ef45a58"
      },
      "execution_count": null,
      "outputs": [
        {
          "output_type": "stream",
          "name": "stdout",
          "text": [
            "after removing first occarance of 32 [19, 10, 55, 31, 32, 94, 29, 10, 65, 77, 40, 40]\n",
            "after removing 40 from the list [19, 10, 55, 31, 32, 94, 29, 10, 65, 77, 40]\n",
            "after removing 40 from the list [19, 10, 55, 31, 32, 94, 29, 10, 65, 77]\n",
            "after deleting a value from index 5 [19, 10, 55, 31, 32, 29, 10, 65, 77]\n",
            "after modifying value at index 9 [19, 10, 55, 31, 32, 29, 10, 65, 300]\n",
            "after adding 200 at index 2 [19, 10, 255, 31, 32, 29, 10, 65, 300]\n",
            "the final list is: [19, 10, 255, 31, 32, 29, 10, 65, 300]\n",
            "length of final list: 9\n",
            "maximum value: 300\n",
            "the sum of final list is: 751\n"
          ]
        }
      ]
    }
  ]
}