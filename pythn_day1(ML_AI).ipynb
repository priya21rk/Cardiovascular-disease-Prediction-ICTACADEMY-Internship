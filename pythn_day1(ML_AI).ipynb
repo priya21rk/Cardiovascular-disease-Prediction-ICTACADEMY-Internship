{
  "cells": [
    {
      "cell_type": "markdown",
      "metadata": {
        "id": "view-in-github",
        "colab_type": "text"
      },
      "source": [
        "<a href=\"https://colab.research.google.com/github/priya21rk/ICT_ML-AI/blob/DAY1/pythn_day1(ML_AI).ipynb\" target=\"_parent\"><img src=\"https://colab.research.google.com/assets/colab-badge.svg\" alt=\"Open In Colab\"/></a>"
      ]
    },
    {
      "cell_type": "code",
      "execution_count": null,
      "metadata": {
        "id": "Xpv50oNV8mgy"
      },
      "outputs": [],
      "source": [
        "#list=['fathima','aisha','priya','shijina']\n",
        "#list2=[]\n",
        "#for i in list:\n",
        "#  list2=i+list\n",
        "#print(list)\n"
      ]
    },
    {
      "cell_type": "code",
      "execution_count": null,
      "metadata": {
        "colab": {
          "base_uri": "https://localhost:8080/"
        },
        "id": "pkp5ugNV8mUu",
        "outputId": "60510bb2-9f03-4d3d-bb6c-a7f1cbf5e969"
      },
      "outputs": [
        {
          "name": "stdout",
          "output_type": "stream",
          "text": [
            "*****\n",
            "*****\n",
            "*****\n",
            "*****\n",
            "*****\n"
          ]
        }
      ],
      "source": [
        "i=4\n",
        "while i>=0:\n",
        "  j=0\n",
        "  while j<=4:\n",
        "    j=j+1\n",
        "    print(\"*\",end=\"\")\n",
        "  print(\"\")\n",
        "  i=i-1"
      ]
    },
    {
      "cell_type": "code",
      "execution_count": null,
      "metadata": {
        "colab": {
          "base_uri": "https://localhost:8080/"
        },
        "id": "gJWcUfeS_Gcz",
        "outputId": "dfad8f78-568d-4051-e078-ad31542f9b7f"
      },
      "outputs": [
        {
          "name": "stdout",
          "output_type": "stream",
          "text": [
            "world of python!"
          ]
        }
      ],
      "source": [
        "print(\"world of python\",end=\"!\")"
      ]
    },
    {
      "cell_type": "code",
      "execution_count": null,
      "metadata": {
        "colab": {
          "base_uri": "https://localhost:8080/"
        },
        "id": "SuzSyA9V_WDJ",
        "outputId": "a173a75d-7392-4dec-9d68-8f77511b257d"
      },
      "outputs": [
        {
          "name": "stdout",
          "output_type": "stream",
          "text": [
            "hello\n",
            "hello\n",
            "hello\n",
            "\n"
          ]
        }
      ],
      "source": [
        "print(\"hello\\n\"*3)"
      ]
    },
    {
      "cell_type": "code",
      "execution_count": null,
      "metadata": {
        "colab": {
          "base_uri": "https://localhost:8080/"
        },
        "id": "PcQqOiDt_bWv",
        "outputId": "3b277182-a686-4eae-8769-32706188a525"
      },
      "outputs": [
        {
          "name": "stdout",
          "output_type": "stream",
          "text": [
            "p\n",
            "h\n",
            "6\n"
          ]
        }
      ],
      "source": [
        "s='python'\n",
        "print(s[0])\n",
        "print(s[-3])\n",
        "print(len(s))"
      ]
    },
    {
      "cell_type": "code",
      "execution_count": null,
      "metadata": {
        "colab": {
          "base_uri": "https://localhost:8080/"
        },
        "id": "GQ9cYK9s_pIg",
        "outputId": "6f44cbbf-3399-461e-d486-b873b3877a17"
      },
      "outputs": [
        {
          "name": "stdout",
          "output_type": "stream",
          "text": [
            "pyth\n",
            "pto\n"
          ]
        }
      ],
      "source": [
        "print(s[0:4])\n",
        "print(s[0:6:2])"
      ]
    },
    {
      "cell_type": "code",
      "execution_count": null,
      "metadata": {
        "id": "2SZSkVmyD-U9"
      },
      "outputs": [],
      "source": []
    },
    {
      "cell_type": "code",
      "execution_count": null,
      "metadata": {
        "colab": {
          "background_save": true,
          "base_uri": "https://localhost:8080/"
        },
        "id": "osWo6i9mw2Nv",
        "outputId": "0f332338-6a40-4a68-bf0e-0b8a88687cd5"
      },
      "outputs": [
        {
          "name": "stdout",
          "output_type": "stream",
          "text": [
            "Select operation\n",
            "1.Add\n",
            "2.Subtract\n",
            "3.Multiply\n",
            "4.Divide\n"
          ]
        }
      ],
      "source": [
        "print(\"Select operation\")\n",
        "print(\"1.Add\")\n",
        "print(\"2.Subtract\")\n",
        "print(\"3.Multiply\")\n",
        "print(\"4.Divide\")\n",
        "choice = input()\n",
        "num1=int(input(\"enter the first number:\"))\n",
        "num2=int(input(\"enter the second number:\"))\n",
        "if choice == '1' :\n",
        "  s=num1+num2\n",
        "elif choice == '2':\n",
        "  s=num1-num2\n",
        "elif choice == '3':\n",
        "  s=num1*num2\n",
        "elif choice == '4':\n",
        "  s=num1/num2\n",
        "else:\n",
        "  quit()\n",
        "print(s)\n",
        "\n"
      ]
    },
    {
      "cell_type": "code",
      "execution_count": null,
      "metadata": {
        "id": "Fyz_bTYs1PHl"
      },
      "outputs": [],
      "source": [
        "#@title prime numbers\n",
        "\n",
        "num=int(input(\"enter a number:\"))\n",
        "c=0\n",
        "i=1\n",
        "while(i<=num):\n",
        "  if num%i==0 :\n",
        "    c=c+1\n",
        "  i=i+1  \n",
        "if c==2:\n",
        "    print(\"prime\")\n",
        "else:\n",
        "    print(\"not prime\")"
      ]
    },
    {
      "cell_type": "code",
      "execution_count": null,
      "metadata": {
        "id": "N43Cr5Kc5SfL"
      },
      "outputs": [],
      "source": [
        "#@title leap year\n",
        "year = int(input(\"enter the year:\"))\n",
        "if year%4==0:\n",
        "  print(\"it is a leap year\")\n",
        "elif year%400==0:\n",
        "  print(\"leap year\")\n",
        "elif year%100==0:\n",
        "  print(\"not leap year\")\n",
        "else :\n",
        "  print(\"not a leap year\")"
      ]
    },
    {
      "cell_type": "code",
      "execution_count": null,
      "metadata": {
        "colab": {
          "base_uri": "https://localhost:8080/"
        },
        "id": "h8IAOldX_7FF",
        "outputId": "332af920-510e-4cb0-e5e0-bacf8b8301e3"
      },
      "outputs": [
        {
          "name": "stdout",
          "output_type": "stream",
          "text": [
            "enter the n numbers required:3\n",
            "6\n"
          ]
        }
      ],
      "source": [
        "#@title sum of natural numbers\n",
        "num=int(input(\"enter the n numbers required:\"))\n",
        "s=0\n",
        "for i in range(num+1):\n",
        "  s=s+i;\n",
        "  i=i+1\n",
        "print(s)\n",
        "\n"
      ]
    },
    {
      "cell_type": "code",
      "execution_count": null,
      "metadata": {
        "id": "a1dXQ0CCAhy-"
      },
      "outputs": [],
      "source": [
        "#def function_name(argument):"
      ]
    },
    {
      "cell_type": "code",
      "execution_count": null,
      "metadata": {
        "id": "vnGbURVJFPN2"
      },
      "outputs": [],
      "source": [
        "def greet():\n",
        "  print(\"hello\")"
      ]
    },
    {
      "cell_type": "code",
      "execution_count": null,
      "metadata": {
        "colab": {
          "base_uri": "https://localhost:8080/"
        },
        "id": "Vnq4YpHyFeA3",
        "outputId": "16a388c3-0552-4f3b-a314-3d3ddd92ce23"
      },
      "outputs": [
        {
          "name": "stdout",
          "output_type": "stream",
          "text": [
            "hello\n"
          ]
        }
      ],
      "source": [
        "greet()\n"
      ]
    },
    {
      "cell_type": "code",
      "execution_count": null,
      "metadata": {
        "id": "19uEkgf1F9DN"
      },
      "outputs": [],
      "source": [
        "def addno(num1,num2):\n",
        "  sum= num1+num2\n",
        "  print(sum)"
      ]
    },
    {
      "cell_type": "code",
      "execution_count": null,
      "metadata": {
        "colab": {
          "base_uri": "https://localhost:8080/"
        },
        "id": "GUzBVGtwGFWy",
        "outputId": "969760fb-1f4d-4f5d-8c2c-9592fd7d014d"
      },
      "outputs": [
        {
          "name": "stdout",
          "output_type": "stream",
          "text": [
            "9\n"
          ]
        }
      ],
      "source": [
        "addno(4,5)"
      ]
    },
    {
      "cell_type": "code",
      "execution_count": null,
      "metadata": {
        "id": "IMpAz_1xGpmr"
      },
      "outputs": [],
      "source": [
        "def sq(num):\n",
        "  n=num*num\n",
        "  print(n)"
      ]
    },
    {
      "cell_type": "code",
      "execution_count": null,
      "metadata": {
        "colab": {
          "base_uri": "https://localhost:8080/"
        },
        "id": "3BdbmbRlJ1aT",
        "outputId": "b70d4e7b-4890-4082-d5f0-aa6359f5533c"
      },
      "outputs": [
        {
          "name": "stdout",
          "output_type": "stream",
          "text": [
            "25\n"
          ]
        }
      ],
      "source": [
        "sq(5)"
      ]
    }
  ],
  "metadata": {
    "colab": {
      "provenance": [],
      "authorship_tag": "ABX9TyOOszDQaweGXjD3AJKGr3IB",
      "include_colab_link": true
    },
    "kernelspec": {
      "display_name": "Python 3",
      "name": "python3"
    },
    "language_info": {
      "name": "python"
    }
  },
  "nbformat": 4,
  "nbformat_minor": 0
}