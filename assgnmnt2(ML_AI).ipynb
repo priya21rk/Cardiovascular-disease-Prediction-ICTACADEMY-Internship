{
  "nbformat": 4,
  "nbformat_minor": 0,
  "metadata": {
    "colab": {
      "provenance": [],
      "authorship_tag": "ABX9TyMR5kGGDObbx+EuUK65zAO6",
      "include_colab_link": true
    },
    "kernelspec": {
      "name": "python3",
      "display_name": "Python 3"
    },
    "language_info": {
      "name": "python"
    }
  },
  "cells": [
    {
      "cell_type": "markdown",
      "metadata": {
        "id": "view-in-github",
        "colab_type": "text"
      },
      "source": [
        "<a href=\"https://colab.research.google.com/github/priya21rk/ICT_ML-AI/blob/DAY2/assgnmnt2(ML_AI).ipynb\" target=\"_parent\"><img src=\"https://colab.research.google.com/assets/colab-badge.svg\" alt=\"Open In Colab\"/></a>"
      ]
    },
    {
      "cell_type": "code",
      "execution_count": null,
      "metadata": {
        "colab": {
          "base_uri": "https://localhost:8080/"
        },
        "id": "bc1zgroW2xWi",
        "outputId": "48739e1b-803f-41e0-c33a-4b1a60d0d6f9"
      },
      "outputs": [
        {
          "output_type": "stream",
          "name": "stdout",
          "text": [
            "['lemon', 'mango', 'orange', 'banana']\n"
          ]
        }
      ],
      "source": [
        "#question1\n",
        "fruits = ['banana', 'orange', 'mango', 'lemon']\n",
        "fruit_rev = []\n",
        "for i in range(len(fruits)-1, -1, -1):\n",
        "    fruit_rev.append(fruits[i])\n",
        "print(fruit_rev)\n"
      ]
    },
    {
      "cell_type": "code",
      "source": [
        "#question2\n",
        "n1=0\n",
        "n2=1\n",
        "count = 0\n",
        "max_numbers = 10\n",
        "while count < max_numbers:\n",
        "    print(n1)\n",
        "    n1=n2\n",
        "    n2=n1+n2\n",
        "    count = count+1\n"
      ],
      "metadata": {
        "colab": {
          "base_uri": "https://localhost:8080/"
        },
        "id": "WM9c5S2p3AkK",
        "outputId": "b6fe4164-7424-46ef-b339-a4428d1a6568"
      },
      "execution_count": null,
      "outputs": [
        {
          "output_type": "stream",
          "name": "stdout",
          "text": [
            "0\n",
            "1\n",
            "2\n",
            "4\n",
            "8\n",
            "16\n",
            "32\n",
            "64\n",
            "128\n",
            "256\n"
          ]
        }
      ]
    },
    {
      "cell_type": "code",
      "source": [
        "#question3\n",
        "def is_prime(n):\n",
        "    if n <= 1:\n",
        "        return False\n",
        "    for i in range(2, n):\n",
        "        if n % i == 0:\n",
        "            return False\n",
        "    return True\n",
        "    \n",
        "for num in range(2, 101):\n",
        "    if is_prime(num):\n",
        "        print(num)"
      ],
      "metadata": {
        "id": "Wva3OIEC4A6p",
        "colab": {
          "base_uri": "https://localhost:8080/"
        },
        "outputId": "b2512b91-dc04-4c05-b729-00c1eee1f54e"
      },
      "execution_count": null,
      "outputs": [
        {
          "output_type": "stream",
          "name": "stdout",
          "text": [
            "2\n",
            "3\n",
            "5\n",
            "7\n",
            "11\n",
            "13\n",
            "17\n",
            "19\n",
            "23\n",
            "29\n",
            "31\n",
            "37\n",
            "41\n",
            "43\n",
            "47\n",
            "53\n",
            "59\n",
            "61\n",
            "67\n",
            "71\n",
            "73\n",
            "79\n",
            "83\n",
            "89\n",
            "97\n"
          ]
        }
      ]
    },
    {
      "cell_type": "code",
      "source": [
        "#question4\n",
        "num = int(input(\"Enter a number: \"))\n",
        "if num % 2 == 0:\n",
        "    print(\"the given number is even\")\n",
        "    print(\"Square of\", num, \"is\", num**2)\n",
        "else:\n",
        "    print(\"the given number is odd\")\n",
        "    print(\"Cube of\", num, \"is\", num**3)"
      ],
      "metadata": {
        "id": "ESAOgyWa4AcD",
        "colab": {
          "base_uri": "https://localhost:8080/"
        },
        "outputId": "4d95220f-026f-4837-a879-17d97872a42d"
      },
      "execution_count": null,
      "outputs": [
        {
          "output_type": "stream",
          "name": "stdout",
          "text": [
            "Enter a number: 3\n",
            "the given number is odd\n",
            "Cube of 3 is 27\n"
          ]
        }
      ]
    },
    {
      "cell_type": "code",
      "source": [
        "#question5\n",
        "sentence = input(\"Enter a sentence: \")\n",
        "words = sentence.split()\n",
        "longest_word = words[0]\n",
        "for word in words:\n",
        "    if len(word) > len(longest_word):\n",
        "        longest_word = word\n",
        "print(\"The longest word is:\", longest_word)\n"
      ],
      "metadata": {
        "colab": {
          "base_uri": "https://localhost:8080/"
        },
        "id": "pOyxonGD-Aud",
        "outputId": "19f7bd6a-1c2b-4c85-fbb3-d652f7f489e2"
      },
      "execution_count": null,
      "outputs": [
        {
          "output_type": "stream",
          "name": "stdout",
          "text": [
            "Enter a sentence: priya is smart\n",
            "The longest word is: priya\n"
          ]
        }
      ]
    },
    {
      "cell_type": "code",
      "source": [
        "#question6\n",
        "count = 0\n",
        "total = 0\n",
        "while count < 5:\n",
        "    num = float(input(\"Enter a number: \"))\n",
        "    total += num\n",
        "    count += 1\n",
        "average = total / 5\n",
        "print(\"The average of the 5 numbers is:\", average)\n"
      ],
      "metadata": {
        "colab": {
          "base_uri": "https://localhost:8080/"
        },
        "id": "bAQDyLrL-Zh4",
        "outputId": "fd1083b5-b785-4b2b-a639-9e9f5c893b10"
      },
      "execution_count": null,
      "outputs": [
        {
          "output_type": "stream",
          "name": "stdout",
          "text": [
            "Enter a number: 1\n",
            "Enter a number: 2\n",
            "Enter a number: 3\n",
            "Enter a number: 4\n",
            "Enter a number: 5\n",
            "The average of the 5 numbers is: 3.0\n"
          ]
        }
      ]
    },
    {
      "cell_type": "code",
      "source": [
        "#question7\n",
        "num = int(input(\"Enter an integer: \"))\n",
        "sum_of_digits = 0\n",
        "remainder = 0\n",
        "while num > 0:\n",
        "    remainder = num % 10\n",
        "    sum_of_digits += remainder\n",
        "    num = num // 10\n",
        "print(\"The sum of the digits is:\", sum_of_digits)\n"
      ],
      "metadata": {
        "id": "NHGRBoL_-il8"
      },
      "execution_count": null,
      "outputs": []
    },
    {
      "cell_type": "code",
      "source": [
        "#question8\n",
        "principal = 100000\n",
        "rate = 0.05\n",
        "for year in range(1, 6):\n",
        "    interest = principal * rate\n",
        "    amount = principal + interest\n",
        "    print(\"Year\", year, \"- Interest:\", interest, \"Amount to be paid:\", amount)\n",
        "    principal = amount\n"
      ],
      "metadata": {
        "id": "o05U0-pw-n4h",
        "colab": {
          "base_uri": "https://localhost:8080/"
        },
        "outputId": "3c6c917e-0858-47a6-96b7-3ae4971f5704"
      },
      "execution_count": null,
      "outputs": [
        {
          "output_type": "stream",
          "name": "stdout",
          "text": [
            "Year 1 - Interest: 5000.0 Amount to be paid: 105000.0\n",
            "Year 2 - Interest: 5250.0 Amount to be paid: 110250.0\n",
            "Year 3 - Interest: 5512.5 Amount to be paid: 115762.5\n",
            "Year 4 - Interest: 5788.125 Amount to be paid: 121550.625\n",
            "Year 5 - Interest: 6077.53125 Amount to be paid: 127628.15625\n"
          ]
        }
      ]
    },
    {
      "cell_type": "code",
      "source": [
        "#question9\n",
        "if 2034 % 4 == 0:\n",
        "    if 2034 % 100 == 0:\n",
        "        if 2034 % 400 == 0:\n",
        "            print(\"2034 is a leap year\")\n",
        "        else:\n",
        "            print(\"2034 is not a leap year\")\n",
        "    else:\n",
        "        print(\"2034 is a leap year\")\n",
        "else:\n",
        "    print(\"2034 is not a leap year\")\n",
        "if 2048 % 4 == 0:\n",
        "    if 2048 % 100 == 0:\n",
        "        if 2048 % 400 == 0:\n",
        "            print(\"2048 is a leap year\")\n",
        "        else:\n",
        "            print(\"2048 is not a leap year\")\n",
        "    else:\n",
        "        print(\"2048 is a leap year\")\n",
        "else:\n",
        "    print(\"2048 is not a leap year\")\n"
      ],
      "metadata": {
        "id": "RpF3JXgA-rgw"
      },
      "execution_count": null,
      "outputs": []
    }
  ]
}