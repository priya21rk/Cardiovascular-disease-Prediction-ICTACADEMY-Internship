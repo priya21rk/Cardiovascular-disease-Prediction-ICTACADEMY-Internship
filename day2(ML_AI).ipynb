{
  "nbformat": 4,
  "nbformat_minor": 0,
  "metadata": {
    "colab": {
      "provenance": [],
      "authorship_tag": "ABX9TyM194kplJKmWcbU+pvCS459",
      "include_colab_link": true
    },
    "kernelspec": {
      "name": "python3",
      "display_name": "Python 3"
    },
    "language_info": {
      "name": "python"
    }
  },
  "cells": [
    {
      "cell_type": "markdown",
      "metadata": {
        "id": "view-in-github",
        "colab_type": "text"
      },
      "source": [
        "<a href=\"https://colab.research.google.com/github/priya21rk/ICT_ML-AI/blob/DAY2/day2(ML_AI).ipynb\" target=\"_parent\"><img src=\"https://colab.research.google.com/assets/colab-badge.svg\" alt=\"Open In Colab\"/></a>"
      ]
    },
    {
      "cell_type": "markdown",
      "source": [
        "**OOPS**"
      ],
      "metadata": {
        "id": "vTXrL9EKBgbw"
      }
    },
    {
      "cell_type": "code",
      "source": [
        "class cat:\n",
        "  def makesound(self):\n",
        "    print('meow meow')\n",
        "kitti=cat()\n",
        "kitti.makesound()\n",
        "tom = cat()\n",
        "tom.makesound()"
      ],
      "metadata": {
        "id": "3CDn3d31EJug"
      },
      "execution_count": null,
      "outputs": []
    },
    {
      "cell_type": "code",
      "source": [
        "class student:\n",
        "  def __init__(self,name,roll_no,marks):\n",
        "    self.name = name\n",
        "    self.roll_no = roll_no\n",
        "    self.marks= marks"
      ],
      "metadata": {
        "id": "SQ_RYCWoCp30"
      },
      "execution_count": null,
      "outputs": []
    },
    {
      "cell_type": "code",
      "execution_count": null,
      "metadata": {
        "id": "hNqSjH_W6o_-"
      },
      "outputs": [],
      "source": [
        "student1=student('sanal',17,10)"
      ]
    },
    {
      "cell_type": "code",
      "source": [
        "student1.marks"
      ],
      "metadata": {
        "colab": {
          "base_uri": "https://localhost:8080/"
        },
        "id": "S8GY7txnBzAd",
        "outputId": "161b58f9-76a8-48c9-8e40-a428fff20521"
      },
      "execution_count": null,
      "outputs": [
        {
          "output_type": "execute_result",
          "data": {
            "text/plain": [
              "10"
            ]
          },
          "metadata": {},
          "execution_count": 7
        }
      ]
    },
    {
      "cell_type": "code",
      "source": [
        "student1.name"
      ],
      "metadata": {
        "colab": {
          "base_uri": "https://localhost:8080/",
          "height": 35
        },
        "id": "3G8UqL6qEZbX",
        "outputId": "14ee5403-48ef-4866-ab70-b5333148f333"
      },
      "execution_count": null,
      "outputs": [
        {
          "output_type": "execute_result",
          "data": {
            "text/plain": [
              "'sanal'"
            ],
            "application/vnd.google.colaboratory.intrinsic+json": {
              "type": "string"
            }
          },
          "metadata": {},
          "execution_count": 12
        }
      ]
    },
    {
      "cell_type": "code",
      "source": [
        "student1.roll_no"
      ],
      "metadata": {
        "colab": {
          "base_uri": "https://localhost:8080/"
        },
        "id": "KAYDchCREsRl",
        "outputId": "9b745b4b-9ffc-4b0b-c40e-f5ca28d1934a"
      },
      "execution_count": null,
      "outputs": [
        {
          "output_type": "execute_result",
          "data": {
            "text/plain": [
              "17"
            ]
          },
          "metadata": {},
          "execution_count": 10
        }
      ]
    },
    {
      "cell_type": "code",
      "source": [
        "student2 = student('priya',31,100)"
      ],
      "metadata": {
        "id": "RVl6UbcvE-dt"
      },
      "execution_count": null,
      "outputs": []
    },
    {
      "cell_type": "code",
      "source": [
        "student.marks= student1.marks+student2.marks"
      ],
      "metadata": {
        "id": "8Tr78VzWFIU9"
      },
      "execution_count": null,
      "outputs": []
    },
    {
      "cell_type": "code",
      "source": [
        "print(student.marks)"
      ],
      "metadata": {
        "colab": {
          "base_uri": "https://localhost:8080/"
        },
        "id": "Y-XUtpDFFbmQ",
        "outputId": "a1372ec0-f438-4afb-c8d3-8f19663a2c72"
      },
      "execution_count": null,
      "outputs": [
        {
          "output_type": "stream",
          "name": "stdout",
          "text": [
            "110\n"
          ]
        }
      ]
    },
    {
      "cell_type": "code",
      "source": [
        "class student:\n",
        "  def __init__(self,name,roll_no,marks):\n",
        "    self.name = name\n",
        "    self.roll_no = roll_no\n",
        "    self.marks= marks\n",
        "\n",
        "  def result(self):\n",
        "    if self.marks>40 :\n",
        "      return 'pass'\n",
        "    else:\n",
        "      return 'fail'"
      ],
      "metadata": {
        "id": "1YAE8vulF9s2"
      },
      "execution_count": null,
      "outputs": []
    },
    {
      "cell_type": "code",
      "source": [
        "student1 = student('priya',31,100)\n",
        "student2 = student('fathima',21,10)\n",
        "student3 = student('aisha',8,0)"
      ],
      "metadata": {
        "id": "_nccFUTaHknc"
      },
      "execution_count": null,
      "outputs": []
    },
    {
      "cell_type": "code",
      "source": [
        "students_name = [student1,student2,student3]"
      ],
      "metadata": {
        "id": "Pos5sl6dH9Hb"
      },
      "execution_count": null,
      "outputs": []
    },
    {
      "cell_type": "code",
      "source": [
        "pass_list = []\n",
        "fail_list = []\n",
        "for i in students_name :\n",
        "  if i.result() == 'pass' :\n",
        "    pass_list.append(i.name)\n",
        "  else:\n",
        "    fail_list.append(i.name)\n",
        "\n",
        "print(pass_list)\n",
        "print(fail_list)\n"
      ],
      "metadata": {
        "colab": {
          "base_uri": "https://localhost:8080/"
        },
        "id": "HytkjfjdJJjA",
        "outputId": "668ba7db-da84-4efe-cde9-04ea887e9106"
      },
      "execution_count": null,
      "outputs": [
        {
          "output_type": "stream",
          "name": "stdout",
          "text": [
            "['priya']\n",
            "['fathima', 'aisha']\n"
          ]
        }
      ]
    },
    {
      "cell_type": "code",
      "source": [
        "class circle:\n",
        "    def __init__(self,radius):\n",
        "        self.radius = radius\n",
        "    def area(self):\n",
        "        return  3.14 * self.radius**2\n",
        "    \n",
        "    def perimeter(self):\n",
        "        return 2 * 3.14 * self.radius"
      ],
      "metadata": {
        "id": "BVYS2Ok-PloM"
      },
      "execution_count": null,
      "outputs": []
    },
    {
      "cell_type": "code",
      "source": [
        "r = circle(3)"
      ],
      "metadata": {
        "id": "hqhP__ObU9hi"
      },
      "execution_count": null,
      "outputs": []
    },
    {
      "cell_type": "code",
      "source": [
        "print(r.area())\n",
        "print(r.perimeter())"
      ],
      "metadata": {
        "colab": {
          "base_uri": "https://localhost:8080/"
        },
        "id": "btA8mVkPVPLz",
        "outputId": "d8c2732a-e5ea-4b95-c7f6-f37ebb67c176"
      },
      "execution_count": null,
      "outputs": [
        {
          "output_type": "stream",
          "name": "stdout",
          "text": [
            "28.26\n",
            "18.84\n"
          ]
        }
      ]
    },
    {
      "cell_type": "code",
      "source": [
        "class circle:\n",
        "    def __init__(self,radius):\n",
        "        self.radius = radius\n",
        "    def area(self):\n",
        "        return 3.14*self.radius**2\n",
        "    \n",
        "    def perimeter(self):\n",
        "        return 2*3.14*self.radius\n",
        "\n",
        "r = float(input(\"enter the radius:\"))\n",
        "c=circle(r)\n",
        "print(c.area())\n",
        "print(c.perimeter())\n"
      ],
      "metadata": {
        "colab": {
          "base_uri": "https://localhost:8080/"
        },
        "id": "oBZdxUBaVy3_",
        "outputId": "90efec53-c309-4409-f083-69ad674687af"
      },
      "execution_count": null,
      "outputs": [
        {
          "output_type": "stream",
          "name": "stdout",
          "text": [
            "enter the radius:5\n",
            "78.5\n",
            "31.400000000000002\n"
          ]
        }
      ]
    },
    {
      "cell_type": "markdown",
      "source": [
        "machine learning\n",
        "\n",
        " -supervised learning:\n",
        "\n",
        "    machine learn under guidance\n",
        "    class labels will be given in the data\n",
        "    we teach the machine with labelled data\n",
        "      regression\n",
        "      classification\n",
        " -unsupervised learning:\n",
        "\n",
        "    machine learns without guidance\n",
        "    no labels will be given inside the data\n",
        "      clustering\n",
        "      association\n",
        "-reinforcement learning\n",
        "\n",
        "Real life applications in ml\n",
        "\n",
        "tools for ml:\n",
        "\n",
        "  python\n",
        "  R\n",
        "  numpy\n",
        "  tensor flow\n",
        "  keras\n",
        "  scikit learns\n",
        "\n",
        "skill required for ML\n",
        "\n"
      ],
      "metadata": {
        "id": "AAk6ubmf2dbE"
      }
    },
    {
      "cell_type": "markdown",
      "source": [
        "**DATA SCIENCE LIFE CYCLE**\n",
        "\n",
        "-data workflow\n",
        "   data collection an storage->data preparation->exploitation and visualization\n",
        "\n",
        "-prototype phase\n",
        "\n",
        "-life cycle\n",
        "\n",
        "-preprocessing\n",
        "\n",
        "-libraries; numpy, pandas, matplotlib"
      ],
      "metadata": {
        "id": "66K9Ys5HITFk"
      }
    },
    {
      "cell_type": "code",
      "source": [],
      "metadata": {
        "id": "WwFrpz3eNDDb"
      },
      "execution_count": null,
      "outputs": []
    }
  ]
}